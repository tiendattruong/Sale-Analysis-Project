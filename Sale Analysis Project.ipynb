{
 "cells": [
  {
   "cell_type": "code",
   "execution_count": 24,
   "id": "1bb4f2c9",
   "metadata": {},
   "outputs": [],
   "source": [
    "#Target: A target market analysis is an assessment of how your product or service fits into a specific market and where it will gain the most.\n",
    "#Task:\n",
    "#Q1: What was the best Year for sales? How much was earned that Year?\n",
    "#Q2: What was the best month for sales? How much was earned that month?\n",
    "#Q3: What City had the highest number of sales?\n",
    "#Q4: What time should we display adverstisement to maximize likelihood of customer's buying product?\n",
    "#Q5: What products are most often sold together?\n",
    "#Q6: What product sold the most? Why do you think it sold the most?\n",
    "\n",
    "#How Much Probability?\n",
    "#How much probability for next people will ordered iPhone?\n",
    "#How much probability for next people will ordered Google Phone?\n",
    "#How much probability other peoples will ordered Wired Headphones?"
   ]
  },
  {
   "cell_type": "code",
   "execution_count": 7,
   "id": "59abf2ca",
   "metadata": {},
   "outputs": [],
   "source": [
    "#Import libraries\n",
    "import numpy as np\n",
    "import os \n",
    "import pandas as pd\n",
    "import matplotlib.pyplot as plt\n",
    "import seaborn as sns\n"
   ]
  },
  {
   "cell_type": "code",
   "execution_count": 8,
   "id": "109e9c79",
   "metadata": {},
   "outputs": [],
   "source": [
    "#Import 12 excel csv file into 1 dataframe\n",
    "\n",
    "df_1= pd.read_csv('Data/Sales_January_2019.csv', sep=\",\", parse_dates=['Order Date'], dayfirst=True)\n",
    "df_2= pd.read_csv('Data/Sales_February_2019.csv', sep=\",\", parse_dates=['Order Date'], dayfirst=True)\n",
    "df_3= pd.read_csv('Data/Sales_March_2019.csv', sep=\",\", parse_dates=['Order Date'], dayfirst=True)\n",
    "df_4= pd.read_csv('Data/Sales_April_2019.csv', sep=\",\", parse_dates=['Order Date'], dayfirst=True)\n",
    "df_5= pd.read_csv('Data/Sales_May_2019.csv', sep=\",\", parse_dates=['Order Date'], dayfirst=True)\n",
    "df_6= pd.read_csv('Data/Sales_June_2019.csv', sep=\",\", parse_dates=['Order Date'], dayfirst=True)\n",
    "df_7= pd.read_csv('Data/Sales_July_2019.csv', sep=\",\", parse_dates=['Order Date'], dayfirst=True)\n",
    "df_8= pd.read_csv('Data/Sales_August_2019.csv', sep=\",\", parse_dates=['Order Date'], dayfirst=True)\n",
    "df_9= pd.read_csv('Data/Sales_September_2019.csv', sep=\",\", parse_dates=['Order Date'], dayfirst=True)\n",
    "df_10= pd.read_csv('Data/Sales_October_2019.csv', sep=\",\", parse_dates=['Order Date'], dayfirst=True)\n",
    "df_11= pd.read_csv('Data/Sales_November_2019.csv', sep=\",\", parse_dates=['Order Date'], dayfirst=True)\n",
    "df_12= pd.read_csv('Data/Sales_December_2019.csv', sep=\",\", parse_dates=['Order Date'], dayfirst=True)\n",
    "    \n",
    "df= pd.concat([df_1,df_2,df_3,df_4,df_5,df_6,df_7,df_8,df_9,df_10,df_11,df_12])\n",
    "\n",
    "df.to_csv('final_data.csv',index=False)\n",
    "    "
   ]
  },
  {
   "cell_type": "code",
   "execution_count": 9,
   "id": "b78b352a",
   "metadata": {},
   "outputs": [
    {
     "data": {
      "text/html": [
       "<div>\n",
       "<style scoped>\n",
       "    .dataframe tbody tr th:only-of-type {\n",
       "        vertical-align: middle;\n",
       "    }\n",
       "\n",
       "    .dataframe tbody tr th {\n",
       "        vertical-align: top;\n",
       "    }\n",
       "\n",
       "    .dataframe thead th {\n",
       "        text-align: right;\n",
       "    }\n",
       "</style>\n",
       "<table border=\"1\" class=\"dataframe\">\n",
       "  <thead>\n",
       "    <tr style=\"text-align: right;\">\n",
       "      <th></th>\n",
       "      <th>Order ID</th>\n",
       "      <th>Product</th>\n",
       "      <th>Quantity Ordered</th>\n",
       "      <th>Price Each</th>\n",
       "      <th>Order Date</th>\n",
       "      <th>Purchase Address</th>\n",
       "    </tr>\n",
       "  </thead>\n",
       "  <tbody>\n",
       "    <tr>\n",
       "      <th>0</th>\n",
       "      <td>141234</td>\n",
       "      <td>iPhone</td>\n",
       "      <td>1</td>\n",
       "      <td>700</td>\n",
       "      <td>01/22/19 21:25</td>\n",
       "      <td>944 Walnut St, Boston, MA 02215</td>\n",
       "    </tr>\n",
       "    <tr>\n",
       "      <th>1</th>\n",
       "      <td>141235</td>\n",
       "      <td>Lightning Charging Cable</td>\n",
       "      <td>1</td>\n",
       "      <td>14.95</td>\n",
       "      <td>01/28/19 14:15</td>\n",
       "      <td>185 Maple St, Portland, OR 97035</td>\n",
       "    </tr>\n",
       "    <tr>\n",
       "      <th>2</th>\n",
       "      <td>141236</td>\n",
       "      <td>Wired Headphones</td>\n",
       "      <td>2</td>\n",
       "      <td>11.99</td>\n",
       "      <td>01/17/19 13:33</td>\n",
       "      <td>538 Adams St, San Francisco, CA 94016</td>\n",
       "    </tr>\n",
       "    <tr>\n",
       "      <th>3</th>\n",
       "      <td>141237</td>\n",
       "      <td>27in FHD Monitor</td>\n",
       "      <td>1</td>\n",
       "      <td>149.99</td>\n",
       "      <td>01/05/19 20:33</td>\n",
       "      <td>738 10th St, Los Angeles, CA 90001</td>\n",
       "    </tr>\n",
       "    <tr>\n",
       "      <th>4</th>\n",
       "      <td>141238</td>\n",
       "      <td>Wired Headphones</td>\n",
       "      <td>1</td>\n",
       "      <td>11.99</td>\n",
       "      <td>01/25/19 11:59</td>\n",
       "      <td>387 10th St, Austin, TX 73301</td>\n",
       "    </tr>\n",
       "    <tr>\n",
       "      <th>...</th>\n",
       "      <td>...</td>\n",
       "      <td>...</td>\n",
       "      <td>...</td>\n",
       "      <td>...</td>\n",
       "      <td>...</td>\n",
       "      <td>...</td>\n",
       "    </tr>\n",
       "    <tr>\n",
       "      <th>186845</th>\n",
       "      <td>319666</td>\n",
       "      <td>Lightning Charging Cable</td>\n",
       "      <td>1</td>\n",
       "      <td>14.95</td>\n",
       "      <td>12/11/19 20:58</td>\n",
       "      <td>14 Madison St, San Francisco, CA 94016</td>\n",
       "    </tr>\n",
       "    <tr>\n",
       "      <th>186846</th>\n",
       "      <td>319667</td>\n",
       "      <td>AA Batteries (4-pack)</td>\n",
       "      <td>2</td>\n",
       "      <td>3.84</td>\n",
       "      <td>12/01/19 12:01</td>\n",
       "      <td>549 Willow St, Los Angeles, CA 90001</td>\n",
       "    </tr>\n",
       "    <tr>\n",
       "      <th>186847</th>\n",
       "      <td>319668</td>\n",
       "      <td>Vareebadd Phone</td>\n",
       "      <td>1</td>\n",
       "      <td>400</td>\n",
       "      <td>12/09/19 06:43</td>\n",
       "      <td>273 Wilson St, Seattle, WA 98101</td>\n",
       "    </tr>\n",
       "    <tr>\n",
       "      <th>186848</th>\n",
       "      <td>319669</td>\n",
       "      <td>Wired Headphones</td>\n",
       "      <td>1</td>\n",
       "      <td>11.99</td>\n",
       "      <td>12/03/19 10:39</td>\n",
       "      <td>778 River St, Dallas, TX 75001</td>\n",
       "    </tr>\n",
       "    <tr>\n",
       "      <th>186849</th>\n",
       "      <td>319670</td>\n",
       "      <td>Bose SoundSport Headphones</td>\n",
       "      <td>1</td>\n",
       "      <td>99.99</td>\n",
       "      <td>12/21/19 21:45</td>\n",
       "      <td>747 Chestnut St, Los Angeles, CA 90001</td>\n",
       "    </tr>\n",
       "  </tbody>\n",
       "</table>\n",
       "<p>186850 rows × 6 columns</p>\n",
       "</div>"
      ],
      "text/plain": [
       "       Order ID                     Product Quantity Ordered Price Each  \\\n",
       "0        141234                      iPhone                1        700   \n",
       "1        141235    Lightning Charging Cable                1      14.95   \n",
       "2        141236            Wired Headphones                2      11.99   \n",
       "3        141237            27in FHD Monitor                1     149.99   \n",
       "4        141238            Wired Headphones                1      11.99   \n",
       "...         ...                         ...              ...        ...   \n",
       "186845   319666    Lightning Charging Cable                1      14.95   \n",
       "186846   319667       AA Batteries (4-pack)                2       3.84   \n",
       "186847   319668             Vareebadd Phone                1        400   \n",
       "186848   319669            Wired Headphones                1      11.99   \n",
       "186849   319670  Bose SoundSport Headphones                1      99.99   \n",
       "\n",
       "            Order Date                        Purchase Address  \n",
       "0       01/22/19 21:25         944 Walnut St, Boston, MA 02215  \n",
       "1       01/28/19 14:15        185 Maple St, Portland, OR 97035  \n",
       "2       01/17/19 13:33   538 Adams St, San Francisco, CA 94016  \n",
       "3       01/05/19 20:33      738 10th St, Los Angeles, CA 90001  \n",
       "4       01/25/19 11:59           387 10th St, Austin, TX 73301  \n",
       "...                ...                                     ...  \n",
       "186845  12/11/19 20:58  14 Madison St, San Francisco, CA 94016  \n",
       "186846  12/01/19 12:01    549 Willow St, Los Angeles, CA 90001  \n",
       "186847  12/09/19 06:43        273 Wilson St, Seattle, WA 98101  \n",
       "186848  12/03/19 10:39          778 River St, Dallas, TX 75001  \n",
       "186849  12/21/19 21:45  747 Chestnut St, Los Angeles, CA 90001  \n",
       "\n",
       "[186850 rows x 6 columns]"
      ]
     },
     "execution_count": 9,
     "metadata": {},
     "output_type": "execute_result"
    }
   ],
   "source": [
    "#Read new data file\n",
    "sales_data = pd.read_csv('final_data.csv',sep=\",\", parse_dates=['Order Date'], dayfirst=True)\n",
    "sales_data"
   ]
  },
  {
   "cell_type": "code",
   "execution_count": 10,
   "id": "90721e4a",
   "metadata": {},
   "outputs": [
    {
     "data": {
      "text/html": [
       "<div>\n",
       "<style scoped>\n",
       "    .dataframe tbody tr th:only-of-type {\n",
       "        vertical-align: middle;\n",
       "    }\n",
       "\n",
       "    .dataframe tbody tr th {\n",
       "        vertical-align: top;\n",
       "    }\n",
       "\n",
       "    .dataframe thead th {\n",
       "        text-align: right;\n",
       "    }\n",
       "</style>\n",
       "<table border=\"1\" class=\"dataframe\">\n",
       "  <thead>\n",
       "    <tr style=\"text-align: right;\">\n",
       "      <th></th>\n",
       "      <th>Order ID</th>\n",
       "      <th>Product</th>\n",
       "      <th>Quantity Ordered</th>\n",
       "      <th>Price Each</th>\n",
       "      <th>Order Date</th>\n",
       "      <th>Purchase Address</th>\n",
       "    </tr>\n",
       "  </thead>\n",
       "  <tbody>\n",
       "    <tr>\n",
       "      <th>186845</th>\n",
       "      <td>319666</td>\n",
       "      <td>Lightning Charging Cable</td>\n",
       "      <td>1</td>\n",
       "      <td>14.95</td>\n",
       "      <td>12/11/19 20:58</td>\n",
       "      <td>14 Madison St, San Francisco, CA 94016</td>\n",
       "    </tr>\n",
       "    <tr>\n",
       "      <th>186846</th>\n",
       "      <td>319667</td>\n",
       "      <td>AA Batteries (4-pack)</td>\n",
       "      <td>2</td>\n",
       "      <td>3.84</td>\n",
       "      <td>12/01/19 12:01</td>\n",
       "      <td>549 Willow St, Los Angeles, CA 90001</td>\n",
       "    </tr>\n",
       "    <tr>\n",
       "      <th>186847</th>\n",
       "      <td>319668</td>\n",
       "      <td>Vareebadd Phone</td>\n",
       "      <td>1</td>\n",
       "      <td>400</td>\n",
       "      <td>12/09/19 06:43</td>\n",
       "      <td>273 Wilson St, Seattle, WA 98101</td>\n",
       "    </tr>\n",
       "    <tr>\n",
       "      <th>186848</th>\n",
       "      <td>319669</td>\n",
       "      <td>Wired Headphones</td>\n",
       "      <td>1</td>\n",
       "      <td>11.99</td>\n",
       "      <td>12/03/19 10:39</td>\n",
       "      <td>778 River St, Dallas, TX 75001</td>\n",
       "    </tr>\n",
       "    <tr>\n",
       "      <th>186849</th>\n",
       "      <td>319670</td>\n",
       "      <td>Bose SoundSport Headphones</td>\n",
       "      <td>1</td>\n",
       "      <td>99.99</td>\n",
       "      <td>12/21/19 21:45</td>\n",
       "      <td>747 Chestnut St, Los Angeles, CA 90001</td>\n",
       "    </tr>\n",
       "  </tbody>\n",
       "</table>\n",
       "</div>"
      ],
      "text/plain": [
       "       Order ID                     Product Quantity Ordered Price Each  \\\n",
       "186845   319666    Lightning Charging Cable                1      14.95   \n",
       "186846   319667       AA Batteries (4-pack)                2       3.84   \n",
       "186847   319668             Vareebadd Phone                1        400   \n",
       "186848   319669            Wired Headphones                1      11.99   \n",
       "186849   319670  Bose SoundSport Headphones                1      99.99   \n",
       "\n",
       "            Order Date                        Purchase Address  \n",
       "186845  12/11/19 20:58  14 Madison St, San Francisco, CA 94016  \n",
       "186846  12/01/19 12:01    549 Willow St, Los Angeles, CA 90001  \n",
       "186847  12/09/19 06:43        273 Wilson St, Seattle, WA 98101  \n",
       "186848  12/03/19 10:39          778 River St, Dallas, TX 75001  \n",
       "186849  12/21/19 21:45  747 Chestnut St, Los Angeles, CA 90001  "
      ]
     },
     "execution_count": 10,
     "metadata": {},
     "output_type": "execute_result"
    }
   ],
   "source": [
    "#Check null\n",
    "sales_data.isnull().sum()\n",
    "#Drop null\n",
    "sales_data= sales_data.dropna(how='all')\n",
    "sales_data.isnull().sum()\n",
    "sales_data.tail()\n"
   ]
  },
  {
   "cell_type": "code",
   "execution_count": 11,
   "id": "445eabc4",
   "metadata": {},
   "outputs": [
    {
     "name": "stdout",
     "output_type": "stream",
     "text": [
      "<bound method Series.unique of 0                             iPhone\n",
      "1           Lightning Charging Cable\n",
      "2                   Wired Headphones\n",
      "3                   27in FHD Monitor\n",
      "4                   Wired Headphones\n",
      "                     ...            \n",
      "186845      Lightning Charging Cable\n",
      "186846         AA Batteries (4-pack)\n",
      "186847               Vareebadd Phone\n",
      "186848              Wired Headphones\n",
      "186849    Bose SoundSport Headphones\n",
      "Name: Product, Length: 186305, dtype: object>\n",
      "['1' '2' '3' '5' '4' '7' 'Quantity Ordered' '6' '9' '8']\n",
      "['1' '2' '3' '5' '4' '7' '6' '9' '8']\n"
     ]
    }
   ],
   "source": [
    "#Check each row for problem values\n",
    "print(sales_data['Product'].unique)\n",
    "print(sales_data['Quantity Ordered'].unique())\n",
    "#Remove the 'Quantity Ordered' row\n",
    "sales_data=sales_data[sales_data['Quantity Ordered'] != 'Quantity Ordered']\n",
    "print(sales_data['Quantity Ordered'].unique())"
   ]
  },
  {
   "cell_type": "code",
   "execution_count": 12,
   "id": "8dc73f66",
   "metadata": {},
   "outputs": [
    {
     "name": "stdout",
     "output_type": "stream",
     "text": [
      "<class 'pandas.core.frame.DataFrame'>\n",
      "Int64Index: 185950 entries, 0 to 186849\n",
      "Data columns (total 6 columns):\n",
      " #   Column            Non-Null Count   Dtype         \n",
      "---  ------            --------------   -----         \n",
      " 0   Order ID          185950 non-null  object        \n",
      " 1   Product           185950 non-null  object        \n",
      " 2   Quantity Ordered  185950 non-null  int32         \n",
      " 3   Price Each        185950 non-null  float64       \n",
      " 4   Order Date        185950 non-null  datetime64[ns]\n",
      " 5   Purchase Address  185950 non-null  object        \n",
      "dtypes: datetime64[ns](1), float64(1), int32(1), object(3)\n",
      "memory usage: 9.2+ MB\n"
     ]
    }
   ],
   "source": [
    "#Change type of data\n",
    "sales_data['Quantity Ordered'],sales_data['Price Each'],sales_data['Order Date']= sales_data['Quantity Ordered'].astype('int'),sales_data['Price Each'].astype('float'), pd.to_datetime(sales_data['Order Date'])\n",
    "sales_data.info()"
   ]
  },
  {
   "cell_type": "code",
   "execution_count": 13,
   "id": "2bff8893",
   "metadata": {},
   "outputs": [
    {
     "name": "stdout",
     "output_type": "stream",
     "text": [
      "34483365.67999999\n",
      "8670.29\n"
     ]
    }
   ],
   "source": [
    "#Q1: What was the best Year for sales? How much was earned that Year?\n",
    "sales_data['Year']= sales_data['Order Date'].dt.year\n",
    "sales_data['Earning']= sales_data['Quantity Ordered']*sales_data['Price Each']\n",
    "print(sales_data[sales_data['Year']== 2019]['Earning'].sum())\n",
    "print(sales_data[sales_data['Year']== 2020]['Earning'].sum())\n",
    "#Answer: 2020 is better year for sales. Total earning is 34.483.365$"
   ]
  },
  {
   "cell_type": "code",
   "execution_count": 14,
   "id": "42c57169",
   "metadata": {},
   "outputs": [
    {
     "name": "stdout",
     "output_type": "stream",
     "text": [
      "[1, 2, 3, 4, 5, 6, 7, 8, 9, 10, 11, 12]\n",
      "[1822256.73, 2202022.42, 2807100.38, 3390670.2399999998, 3152606.7499999995, 2577802.26, 2647775.76, 2244467.88, 2097560.13, 3736726.8799999994, 3199603.1999999997, 4613443.339999999]\n"
     ]
    }
   ],
   "source": [
    "#Q2: What was the best month for sales? How much was earned that month?\n",
    "sales_data['Month']= sales_data['Order Date'].dt.month\n",
    "month=list(sales_data['Month'].unique())\n",
    "sales_month=[]\n",
    "for i in month:\n",
    "    sales_month.append(sales_data[sales_data['Month']==i]['Earning'].sum())\n",
    "print(month)\n",
    "print(sales_month)\n",
    "#Answer: December is best month for sales. Total earning is 4.614.443$"
   ]
  },
  {
   "cell_type": "code",
   "execution_count": 15,
   "id": "22682be5",
   "metadata": {},
   "outputs": [
    {
     "name": "stdout",
     "output_type": "stream",
     "text": [
      "[3661642.01, 2320490.61, 8262203.909999999, 5452570.8, 1819581.7499999998, 2795498.58, 2747755.4799999995, 4664317.43, 2767975.3999999994]\n",
      "[' Boston', ' Portland', ' San Francisco', ' Los Angeles', ' Austin', ' Atlanta', ' Seattle', ' New York City', ' Dallas']\n"
     ]
    },
    {
     "data": {
      "image/png": "[encoded data removed]",
      "text/plain": [
       "<Figure size 432x288 with 1 Axes>"
      ]
     },
     "metadata": {
      "needs_background": "light"
     },
     "output_type": "display_data"
    }
   ],
   "source": [
    "#Q3: What City had the highest number of sales?\n",
    "sales_data['City']=sales_data['Purchase Address'].str.split(',').str[1]\n",
    "city= list(sales_data['City'].unique())\n",
    "sales_city=[]\n",
    "\n",
    "for i in city:\n",
    "    sales_city.append(sales_data[sales_data['City']==i]['Earning'].sum())\n",
    "\n",
    "print(sales_city)\n",
    "print(city)\n",
    "\n",
    "plt.bar(city, sales_city)\n",
    "plt.xlabel('City')\n",
    "plt.ylabel('Sales')\n",
    "plt.title('City Sales')\n",
    "plt.show()\n",
    "\n",
    "#Answer: San Francisco "
   ]
  },
  {
   "cell_type": "code",
   "execution_count": 16,
   "id": "75bb1555",
   "metadata": {},
   "outputs": [
    {
     "data": {
      "image/png": "[encoded data removed]",
      "text/plain": [
       "<Figure size 432x288 with 1 Axes>"
      ]
     },
     "metadata": {
      "needs_background": "light"
     },
     "output_type": "display_data"
    },
    {
     "data": {
      "image/png": "[encoded data removed]",
      "text/plain": [
       "<Figure size 432x288 with 1 Axes>"
      ]
     },
     "metadata": {
      "needs_background": "light"
     },
     "output_type": "display_data"
    },
    {
     "data": {
      "image/png": "[encoded data removed]",
      "text/plain": [
       "<Figure size 432x288 with 1 Axes>"
      ]
     },
     "metadata": {
      "needs_background": "light"
     },
     "output_type": "display_data"
    },
    {
     "data": {
      "image/png": "[encoded data removed]",
      "text/plain": [
       "<Figure size 432x288 with 1 Axes>"
      ]
     },
     "metadata": {
      "needs_background": "light"
     },
     "output_type": "display_data"
    }
   ],
   "source": [
    "#Q4: What time should we display adverstisement to maximize likelihood of customer's buying product?\n",
    "sales_data['Day']= sales_data['Order Date'].dt.day\n",
    "sales_data['Hour']= sales_data['Order Date'].dt.hour\n",
    "sales_data['Minute']= sales_data['Order Date'].dt.minute\n",
    "day= list(sales_data['Day'].unique())\n",
    "hour= list(sales_data['Hour'].unique())\n",
    "minute= list(sales_data['Minute'].unique())\n",
    "\n",
    "quant_month=[]\n",
    "quant_day=[]\n",
    "quant_hour=[]\n",
    "quant_minute=[]\n",
    "\n",
    "for i in month:\n",
    "    quant_month.append(sales_data[sales_data['Month']==i]['Quantity Ordered'].sum())\n",
    "for j in day:\n",
    "    quant_day.append(sales_data[sales_data['Day']==j]['Quantity Ordered'].sum())\n",
    "for k in hour:\n",
    "    quant_hour.append(sales_data[sales_data['Hour']==k]['Quantity Ordered'].sum())\n",
    "for l in minute:\n",
    "    quant_minute.append(sales_data[sales_data['Minute']==l]['Quantity Ordered'].sum())\n",
    "\n",
    "plt.bar(month,quant_month)\n",
    "plt.show()    \n",
    "plt.bar(day,quant_day)\n",
    "plt.show()\n",
    "plt.bar(hour,quant_hour)\n",
    "plt.show()\n",
    "plt.bar(minute,quant_minute)\n",
    "plt.show()\n",
    "#Answer: December is the best month for advertising. There a litte different between day in months. \n",
    "# We should put avertisment from 10:00 to 21:00 and exact minutes seems to have no impact"
   ]
  },
  {
   "cell_type": "code",
   "execution_count": 17,
   "id": "909fc4ec",
   "metadata": {},
   "outputs": [
    {
     "name": "stdout",
     "output_type": "stream",
     "text": [
      "Counter({('iPhone', 'Lightning Charging Cable'): 882, ('Google Phone', 'USB-C Charging Cable'): 856, ('iPhone', 'Wired Headphones'): 361, ('Vareebadd Phone', 'USB-C Charging Cable'): 312, ('Google Phone', 'Wired Headphones'): 303, ('iPhone', 'Apple Airpods Headphones'): 286, ('Google Phone', 'Bose SoundSport Headphones'): 161, ('Vareebadd Phone', 'Wired Headphones'): 104, ('Google Phone', 'USB-C Charging Cable', 'Wired Headphones'): 77, ('Vareebadd Phone', 'Bose SoundSport Headphones'): 60, ('iPhone', 'Lightning Charging Cable', 'Wired Headphones'): 56, ('Lightning Charging Cable', 'USB-C Charging Cable'): 55, ('Lightning Charging Cable', 'AA Batteries (4-pack)'): 52, ('AA Batteries (4-pack)', 'Lightning Charging Cable'): 51, ('Lightning Charging Cable', 'Lightning Charging Cable'): 51, ('AAA Batteries (4-pack)', 'USB-C Charging Cable'): 50, ('AA Batteries (4-pack)', 'AAA Batteries (4-pack)'): 48, ('AAA Batteries (4-pack)', 'AAA Batteries (4-pack)'): 48, ('USB-C Charging Cable', 'USB-C Charging Cable'): 46, ('Apple Airpods Headphones', 'AAA Batteries (4-pack)'): 45, ('AA Batteries (4-pack)', 'Wired Headphones'): 44, ('AAA Batteries (4-pack)', 'Lightning Charging Cable'): 44, ('iPhone', 'Lightning Charging Cable', 'Apple Airpods Headphones'): 43, ('Wired Headphones', 'AAA Batteries (4-pack)'): 43, ('AAA Batteries (4-pack)', 'Wired Headphones'): 43, ('Apple Airpods Headphones', 'Wired Headphones'): 42, ('Wired Headphones', 'USB-C Charging Cable'): 42, ('USB-C Charging Cable', 'AAA Batteries (4-pack)'): 42, ('USB-C Charging Cable', 'Lightning Charging Cable'): 41, ('AA Batteries (4-pack)', 'Apple Airpods Headphones'): 41, ('USB-C Charging Cable', 'Wired Headphones'): 40, ('Lightning Charging Cable', 'Bose SoundSport Headphones'): 39, ('AAA Batteries (4-pack)', 'AA Batteries (4-pack)'): 39, ('Bose SoundSport Headphones', 'AAA Batteries (4-pack)'): 37, ('AA Batteries (4-pack)', 'USB-C Charging Cable'): 37, ('Wired Headphones', 'AA Batteries (4-pack)'): 36, ('Wired Headphones', 'Lightning Charging Cable'): 36, ('Apple Airpods Headphones', 'Lightning Charging Cable'): 35, ('AA Batteries (4-pack)', 'AA Batteries (4-pack)'): 35, ('USB-C Charging Cable', 'AA Batteries (4-pack)'): 35, ('Lightning Charging Cable', 'AAA Batteries (4-pack)'): 35, ('Lightning Charging Cable', 'Apple Airpods Headphones'): 34, ('Wired Headphones', 'Wired Headphones'): 34, ('AAA Batteries (4-pack)', 'Apple Airpods Headphones'): 33, ('Bose SoundSport Headphones', 'Lightning Charging Cable'): 32, ('USB-C Charging Cable', 'Apple Airpods Headphones'): 31, ('Vareebadd Phone', 'USB-C Charging Cable', 'Wired Headphones'): 31, ('Google Phone', 'USB-C Charging Cable', 'Bose SoundSport Headphones'): 31, ('Apple Airpods Headphones', 'Bose SoundSport Headphones'): 31, ('Lightning Charging Cable', 'Wired Headphones'): 30, ('Apple Airpods Headphones', 'AA Batteries (4-pack)'): 29, ('Apple Airpods Headphones', 'USB-C Charging Cable'): 29, ('USB-C Charging Cable', '27in FHD Monitor'): 29, ('Wired Headphones', 'Apple Airpods Headphones'): 29, ('AA Batteries (4-pack)', 'Bose SoundSport Headphones'): 28, ('Bose SoundSport Headphones', 'AA Batteries (4-pack)'): 27, ('Bose SoundSport Headphones', 'Bose SoundSport Headphones'): 27, ('USB-C Charging Cable', 'Bose SoundSport Headphones'): 26, ('Bose SoundSport Headphones', 'USB-C Charging Cable'): 25, ('Bose SoundSport Headphones', 'Wired Headphones'): 24, ('Apple Airpods Headphones', 'Apple Airpods Headphones'): 24, ('iPhone', 'Apple Airpods Headphones', 'Wired Headphones'): 23, ('AAA Batteries (4-pack)', '27in FHD Monitor'): 22, ('Google Phone', 'Bose SoundSport Headphones', 'Wired Headphones'): 21, ('Wired Headphones', 'Bose SoundSport Headphones'): 21, ('27in FHD Monitor', 'AAA Batteries (4-pack)'): 21, ('AAA Batteries (4-pack)', 'Bose SoundSport Headphones'): 20, ('34in Ultrawide Monitor', 'AA Batteries (4-pack)'): 19, ('34in Ultrawide Monitor', 'Lightning Charging Cable'): 18, ('27in FHD Monitor', 'Lightning Charging Cable'): 18, ('AA Batteries (4-pack)', 'iPhone'): 18, ('Lightning Charging Cable', '27in FHD Monitor'): 18, ('Bose SoundSport Headphones', 'Apple Airpods Headphones'): 17, ('Wired Headphones', '27in 4K Gaming Monitor'): 17, ('Lightning Charging Cable', '27in 4K Gaming Monitor'): 17, ('Wired Headphones', '34in Ultrawide Monitor'): 17, ('27in 4K Gaming Monitor', 'Lightning Charging Cable'): 16, ('ThinkPad Laptop', 'AAA Batteries (4-pack)'): 16, ('AAA Batteries (4-pack)', '27in 4K Gaming Monitor'): 15, ('20in Monitor', 'USB-C Charging Cable'): 15, ('34in Ultrawide Monitor', 'USB-C Charging Cable'): 15, ('Lightning Charging Cable', '20in Monitor'): 15, ('27in FHD Monitor', 'AA Batteries (4-pack)'): 15, ('27in 4K Gaming Monitor', 'AAA Batteries (4-pack)'): 15, ('AA Batteries (4-pack)', '27in 4K Gaming Monitor'): 14, ('Lightning Charging Cable', 'Google Phone'): 14, ('Lightning Charging Cable', '34in Ultrawide Monitor'): 14, ('Vareebadd Phone', 'USB-C Charging Cable', 'Bose SoundSport Headphones'): 14, ('AAA Batteries (4-pack)', 'iPhone'): 14, ('Apple Airpods Headphones', 'iPhone'): 13, ('AAA Batteries (4-pack)', '34in Ultrawide Monitor'): 13, ('AA Batteries (4-pack)', 'Flatscreen TV'): 13, ('Wired Headphones', 'iPhone'): 13, ('Bose SoundSport Headphones', '27in FHD Monitor'): 13, ('AA Batteries (4-pack)', '34in Ultrawide Monitor'): 13, ('iPhone', 'AAA Batteries (4-pack)'): 13, ('Apple Airpods Headphones', 'Google Phone'): 13, ('27in FHD Monitor', 'Bose SoundSport Headphones'): 12, ('20in Monitor', 'Wired Headphones'): 12, ('USB-C Charging Cable', 'iPhone'): 12, ('27in 4K Gaming Monitor', 'AA Batteries (4-pack)'): 12, ('USB-C Charging Cable', 'Google Phone'): 12, ('Apple Airpods Headphones', 'Macbook Pro Laptop'): 12, ('27in FHD Monitor', 'Apple Airpods Headphones'): 12, ('iPhone', 'USB-C Charging Cable'): 12, ('27in 4K Gaming Monitor', 'USB-C Charging Cable'): 12, ('34in Ultrawide Monitor', 'AAA Batteries (4-pack)'): 12, ('Apple Airpods Headphones', '27in FHD Monitor'): 12, ('Wired Headphones', 'Macbook Pro Laptop'): 12, ('Apple Airpods Headphones', '27in 4K Gaming Monitor'): 12, ('27in FHD Monitor', 'USB-C Charging Cable'): 12, ('Macbook Pro Laptop', 'USB-C Charging Cable'): 12, ('34in Ultrawide Monitor', 'Wired Headphones'): 11, ('USB-C Charging Cable', '27in 4K Gaming Monitor'): 11, ('USB-C Charging Cable', 'ThinkPad Laptop'): 11, ('Macbook Pro Laptop', 'Bose SoundSport Headphones'): 11, ('AA Batteries (4-pack)', 'Google Phone'): 11, ('Wired Headphones', '27in FHD Monitor'): 11, ('Lightning Charging Cable', 'Flatscreen TV'): 11, ('AAA Batteries (4-pack)', 'Macbook Pro Laptop'): 11, ('AAA Batteries (4-pack)', 'Google Phone'): 11, ('ThinkPad Laptop', 'Lightning Charging Cable'): 11, ('AA Batteries (4-pack)', '27in FHD Monitor'): 11, ('iPhone', 'AA Batteries (4-pack)'): 11, ('20in Monitor', 'Lightning Charging Cable'): 11, ('Flatscreen TV', 'AAA Batteries (4-pack)'): 11, ('AAA Batteries (4-pack)', 'ThinkPad Laptop'): 11, ('Macbook Pro Laptop', 'Lightning Charging Cable'): 11, ('27in 4K Gaming Monitor', 'Wired Headphones'): 11, ('Wired Headphones', 'ThinkPad Laptop'): 10, ('AAA Batteries (4-pack)', 'Flatscreen TV'): 10, ('USB-C Charging Cable', '20in Monitor'): 10, ('Lightning Charging Cable', 'Macbook Pro Laptop'): 10, ('Flatscreen TV', 'Lightning Charging Cable'): 10, ('Bose SoundSport Headphones', '27in 4K Gaming Monitor'): 10, ('27in FHD Monitor', 'Wired Headphones'): 10, ('Google Phone', 'AA Batteries (4-pack)'): 10, ('USB-C Charging Cable', '34in Ultrawide Monitor'): 10, ('Google Phone', 'Lightning Charging Cable'): 10, ('USB-C Charging Cable', 'Flatscreen TV'): 10, ('27in 4K Gaming Monitor', 'Apple Airpods Headphones'): 10, ('Bose SoundSport Headphones', '34in Ultrawide Monitor'): 10, ('AA Batteries (4-pack)', '20in Monitor'): 10, ('20in Monitor', 'Bose SoundSport Headphones'): 9, ('Macbook Pro Laptop', 'AA Batteries (4-pack)'): 9, ('Apple Airpods Headphones', 'ThinkPad Laptop'): 9, ('AA Batteries (4-pack)', 'ThinkPad Laptop'): 9, ('USB-C Charging Cable', 'Macbook Pro Laptop'): 9, ('Lightning Charging Cable', 'ThinkPad Laptop'): 9, ('Vareebadd Phone', 'AA Batteries (4-pack)'): 9, ('Bose SoundSport Headphones', 'Flatscreen TV'): 9, ('ThinkPad Laptop', 'Bose SoundSport Headphones'): 9, ('27in FHD Monitor', '27in FHD Monitor'): 9, ('Lightning Charging Cable', 'iPhone'): 9, ('27in 4K Gaming Monitor', 'Bose SoundSport Headphones'): 9, ('ThinkPad Laptop', 'USB-C Charging Cable'): 9, ('Bose SoundSport Headphones', 'Google Phone'): 8, ('Flatscreen TV', 'AA Batteries (4-pack)'): 8, ('Apple Airpods Headphones', 'Flatscreen TV'): 8, ('34in Ultrawide Monitor', 'Apple Airpods Headphones'): 8, ('ThinkPad Laptop', 'AA Batteries (4-pack)'): 8, ('AA Batteries (4-pack)', 'Macbook Pro Laptop'): 8, ('Wired Headphones', 'Google Phone'): 8, ('AAA Batteries (4-pack)', '20in Monitor'): 8, ('Google Phone', 'AAA Batteries (4-pack)'): 8, ('Flatscreen TV', 'USB-C Charging Cable'): 7, ('Macbook Pro Laptop', '27in 4K Gaming Monitor'): 7, ('Macbook Pro Laptop', 'Wired Headphones'): 7, ('Wired Headphones', 'Flatscreen TV'): 7, ('34in Ultrawide Monitor', '34in Ultrawide Monitor'): 7, ('ThinkPad Laptop', 'Apple Airpods Headphones'): 7, ('Bose SoundSport Headphones', 'iPhone'): 7, ('20in Monitor', 'Apple Airpods Headphones'): 7, ('Macbook Pro Laptop', 'Apple Airpods Headphones'): 7, ('Wired Headphones', '20in Monitor'): 7, ('Macbook Pro Laptop', 'AAA Batteries (4-pack)'): 7, ('34in Ultrawide Monitor', 'iPhone'): 7, ('Bose SoundSport Headphones', '20in Monitor'): 6, ('Apple Airpods Headphones', 'Vareebadd Phone'): 6, ('27in 4K Gaming Monitor', 'Macbook Pro Laptop'): 6, ('27in FHD Monitor', 'Macbook Pro Laptop'): 6, ('20in Monitor', 'AA Batteries (4-pack)'): 6, ('Apple Airpods Headphones', '20in Monitor'): 6, ('Flatscreen TV', 'Flatscreen TV'): 6, ('Wired Headphones', 'Vareebadd Phone'): 6, ('34in Ultrawide Monitor', 'Bose SoundSport Headphones'): 6, ('27in 4K Gaming Monitor', '34in Ultrawide Monitor'): 6, ('Apple Airpods Headphones', '34in Ultrawide Monitor'): 6, ('USB-C Charging Cable', 'Vareebadd Phone'): 6, ('Google Phone', 'iPhone'): 5, ('Flatscreen TV', 'Apple Airpods Headphones'): 5, ('Flatscreen TV', '34in Ultrawide Monitor'): 5, ('27in 4K Gaming Monitor', 'Google Phone'): 5, ('27in 4K Gaming Monitor', '27in 4K Gaming Monitor'): 5, ('iPhone', 'Flatscreen TV'): 5, ('27in FHD Monitor', '34in Ultrawide Monitor'): 5, ('34in Ultrawide Monitor', '27in FHD Monitor'): 5, ('iPhone', '27in 4K Gaming Monitor'): 5, ('iPhone', '34in Ultrawide Monitor'): 5, ('Google Phone', 'Apple Airpods Headphones'): 4, ('Bose SoundSport Headphones', 'Macbook Pro Laptop'): 4, ('LG Dryer', 'AA Batteries (4-pack)'): 4, ('27in FHD Monitor', '27in 4K Gaming Monitor'): 4, ('Flatscreen TV', 'Wired Headphones'): 4, ('Vareebadd Phone', 'Google Phone'): 4, ('Bose SoundSport Headphones', 'ThinkPad Laptop'): 4, ('ThinkPad Laptop', 'Wired Headphones'): 4, ('Vareebadd Phone', 'Apple Airpods Headphones'): 4, ('20in Monitor', 'Macbook Pro Laptop'): 4, ('iPhone', 'ThinkPad Laptop'): 4, ('Google Phone', '27in FHD Monitor'): 4, ('LG Washing Machine', 'AAA Batteries (4-pack)'): 4, ('Flatscreen TV', '27in FHD Monitor'): 4, ('Macbook Pro Laptop', '34in Ultrawide Monitor'): 4, ('iPhone', 'Bose SoundSport Headphones'): 4, ('Vareebadd Phone', '34in Ultrawide Monitor'): 4, ('Flatscreen TV', 'iPhone'): 4, ('Flatscreen TV', 'Macbook Pro Laptop'): 4, ('27in 4K Gaming Monitor', '27in FHD Monitor'): 4, ('27in 4K Gaming Monitor', 'ThinkPad Laptop'): 4, ('AAA Batteries (4-pack)', 'Vareebadd Phone'): 4, ('ThinkPad Laptop', 'Flatscreen TV'): 4, ('Macbook Pro Laptop', 'Google Phone'): 4, ('Lightning Charging Cable', 'LG Washing Machine'): 4, ('27in FHD Monitor', 'ThinkPad Laptop'): 4, ('27in 4K Gaming Monitor', 'iPhone'): 3, ('Google Phone', 'Google Phone'): 3, ('Flatscreen TV', 'Google Phone'): 3, ('Macbook Pro Laptop', 'iPhone'): 3, ('Macbook Pro Laptop', '27in FHD Monitor'): 3, ('Flatscreen TV', 'Bose SoundSport Headphones'): 3, ('AA Batteries (4-pack)', 'Vareebadd Phone'): 3, ('27in FHD Monitor', '20in Monitor'): 3, ('Google Phone', 'USB-C Charging Cable', 'AAA Batteries (4-pack)'): 3, ('27in 4K Gaming Monitor', 'Flatscreen TV'): 3, ('iPhone', 'Lightning Charging Cable', 'Lightning Charging Cable'): 3, ('20in Monitor', '20in Monitor'): 3, ('Vareebadd Phone', 'Bose SoundSport Headphones', 'Wired Headphones'): 3, ('Wired Headphones', 'LG Washing Machine'): 3, ('Apple Airpods Headphones', 'LG Dryer'): 3, ('iPhone', 'Apple Airpods Headphones', 'AAA Batteries (4-pack)'): 3, ('Macbook Pro Laptop', 'ThinkPad Laptop'): 3, ('ThinkPad Laptop', 'Google Phone'): 3, ('34in Ultrawide Monitor', 'Macbook Pro Laptop'): 3, ('iPhone', 'Vareebadd Phone'): 3, ('Google Phone', 'ThinkPad Laptop'): 3, ('Google Phone', 'USB-C Charging Cable', 'Bose SoundSport Headphones', 'Wired Headphones'): 3, ('20in Monitor', 'AAA Batteries (4-pack)'): 3, ('Macbook Pro Laptop', 'Macbook Pro Laptop'): 3, ('iPhone', 'Lightning Charging Cable', 'Apple Airpods Headphones', 'Wired Headphones'): 3, ('34in Ultrawide Monitor', 'Flatscreen TV'): 3, ('ThinkPad Laptop', 'iPhone'): 3, ('34in Ultrawide Monitor', 'ThinkPad Laptop'): 3, ('iPhone', 'Macbook Pro Laptop'): 3, ('LG Washing Machine', 'Bose SoundSport Headphones'): 2, ('AA Batteries (4-pack)', 'LG Dryer'): 2, ('Vareebadd Phone', 'AAA Batteries (4-pack)'): 2, ('Google Phone', 'USB-C Charging Cable', 'AA Batteries (4-pack)'): 2, ('27in FHD Monitor', 'LG Dryer'): 2, ('27in 4K Gaming Monitor', '20in Monitor'): 2, ('LG Washing Machine', 'Lightning Charging Cable'): 2, ('Flatscreen TV', 'ThinkPad Laptop'): 2, ('Vareebadd Phone', 'ThinkPad Laptop'): 2, ('Google Phone', '34in Ultrawide Monitor'): 2, ('34in Ultrawide Monitor', 'Google Phone'): 2, ('Macbook Pro Laptop', '20in Monitor'): 2, ('Lightning Charging Cable', 'LG Dryer'): 2, ('Flatscreen TV', '27in 4K Gaming Monitor'): 2, ('ThinkPad Laptop', 'Macbook Pro Laptop'): 2, ('ThinkPad Laptop', '27in FHD Monitor'): 2, ('iPhone', 'Lightning Charging Cable', 'USB-C Charging Cable'): 2, ('27in FHD Monitor', 'Flatscreen TV'): 2, ('iPhone', 'Lightning Charging Cable', 'AA Batteries (4-pack)'): 2, ('Google Phone', 'Macbook Pro Laptop'): 2, ('iPhone', '20in Monitor'): 2, ('20in Monitor', 'Google Phone'): 2, ('Vareebadd Phone', 'Flatscreen TV'): 2, ('Macbook Pro Laptop', 'LG Washing Machine'): 2, ('Google Phone', '20in Monitor'): 2, ('20in Monitor', 'ThinkPad Laptop'): 2, ('20in Monitor', '27in FHD Monitor'): 2, ('Vareebadd Phone', 'USB-C Charging Cable', 'Bose SoundSport Headphones', 'Wired Headphones'): 2, ('Bose SoundSport Headphones', 'Vareebadd Phone'): 2, ('Lightning Charging Cable', 'Vareebadd Phone'): 2, ('ThinkPad Laptop', 'ThinkPad Laptop'): 2, ('LG Dryer', 'Flatscreen TV'): 1, ('Google Phone', 'USB-C Charging Cable', 'Apple Airpods Headphones'): 1, ('iPhone', 'Lightning Charging Cable', 'iPhone'): 1, ('LG Washing Machine', 'Google Phone'): 1, ('LG Washing Machine', 'Wired Headphones'): 1, ('Google Phone', 'Wired Headphones', 'USB-C Charging Cable'): 1, ('Vareebadd Phone', 'Wired Headphones', 'iPhone'): 1, ('Vareebadd Phone', 'Wired Headphones', 'Apple Airpods Headphones'): 1, ('iPhone', 'Lightning Charging Cable', 'Apple Airpods Headphones', 'Wired Headphones', 'Google Phone'): 1, ('Vareebadd Phone', 'Wired Headphones', '27in 4K Gaming Monitor'): 1, ('iPhone', 'Lightning Charging Cable', '27in 4K Gaming Monitor'): 1, ('Vareebadd Phone', '27in 4K Gaming Monitor'): 1, ('Google Phone', 'USB-C Charging Cable', 'Wired Headphones', 'AA Batteries (4-pack)'): 1, ('27in FHD Monitor', 'Vareebadd Phone'): 1, ('LG Washing Machine', '27in 4K Gaming Monitor'): 1, ('iPhone', 'Apple Airpods Headphones', 'Bose SoundSport Headphones'): 1, ('iPhone', 'Lightning Charging Cable', 'Google Phone'): 1, ('LG Washing Machine', 'Apple Airpods Headphones'): 1, ('27in 4K Gaming Monitor', 'LG Dryer'): 1, ('20in Monitor', 'LG Washing Machine'): 1, ('LG Dryer', 'Google Phone'): 1, ('Google Phone', 'USB-C Charging Cable', 'Wired Headphones', 'USB-C Charging Cable'): 1, ('27in 4K Gaming Monitor', 'Vareebadd Phone'): 1, ('iPhone', 'Lightning Charging Cable', 'Vareebadd Phone'): 1, ('Google Phone', 'USB-C Charging Cable', '27in FHD Monitor'): 1, ('27in FHD Monitor', 'iPhone'): 1, ('Vareebadd Phone', 'Lightning Charging Cable'): 1, ('iPhone', 'Lightning Charging Cable', 'Wired Headphones', 'USB-C Charging Cable'): 1, ('Vareebadd Phone', '27in FHD Monitor'): 1, ('iPhone', 'Google Phone'): 1, ('ThinkPad Laptop', '27in 4K Gaming Monitor'): 1, ('Google Phone', 'USB-C Charging Cable', 'USB-C Charging Cable'): 1, ('20in Monitor', 'Flatscreen TV'): 1, ('USB-C Charging Cable', 'LG Dryer'): 1, ('iPhone', 'Wired Headphones', 'Lightning Charging Cable'): 1, ('Google Phone', 'Bose SoundSport Headphones', 'Apple Airpods Headphones'): 1, ('LG Washing Machine', '20in Monitor'): 1, ('Flatscreen TV', '20in Monitor'): 1, ('Google Phone', 'Wired Headphones', 'AA Batteries (4-pack)'): 1, ('Vareebadd Phone', 'USB-C Charging Cable', 'Apple Airpods Headphones'): 1, ('34in Ultrawide Monitor', 'LG Washing Machine'): 1, ('iPhone', 'iPhone'): 1, ('Google Phone', '27in 4K Gaming Monitor'): 1, ('LG Washing Machine', 'iPhone'): 1, ('LG Dryer', 'Wired Headphones'): 1, ('iPhone', 'Lightning Charging Cable', '34in Ultrawide Monitor'): 1, ('Google Phone', 'Bose SoundSport Headphones', '27in FHD Monitor'): 1, ('27in FHD Monitor', 'LG Washing Machine'): 1, ('LG Dryer', '27in FHD Monitor'): 1, ('20in Monitor', '34in Ultrawide Monitor'): 1, ('Google Phone', 'USB-C Charging Cable', 'Wired Headphones', 'Wired Headphones'): 1, ('Google Phone', 'Wired Headphones', 'Macbook Pro Laptop'): 1, ('34in Ultrawide Monitor', '20in Monitor'): 1, ('Google Phone', 'USB-C Charging Cable', 'Wired Headphones', '27in FHD Monitor'): 1, ('Google Phone', 'USB-C Charging Cable', 'Vareebadd Phone'): 1, ('20in Monitor', 'iPhone'): 1, ('LG Dryer', 'Vareebadd Phone'): 1, ('LG Dryer', 'Lightning Charging Cable'): 1, ('ThinkPad Laptop', 'LG Dryer'): 1, ('LG Washing Machine', 'AA Batteries (4-pack)'): 1, ('LG Dryer', 'AAA Batteries (4-pack)'): 1, ('ThinkPad Laptop', '34in Ultrawide Monitor'): 1, ('iPhone', 'LG Washing Machine'): 1, ('Google Phone', 'Bose SoundSport Headphones', 'Lightning Charging Cable'): 1, ('Vareebadd Phone', 'Bose SoundSport Headphones', 'Flatscreen TV'): 1, ('iPhone', 'Lightning Charging Cable', 'Flatscreen TV'): 1, ('AAA Batteries (4-pack)', 'LG Dryer'): 1, ('LG Dryer', '27in 4K Gaming Monitor'): 1, ('Google Phone', 'USB-C Charging Cable', 'Wired Headphones', 'iPhone'): 1, ('27in FHD Monitor', 'Google Phone'): 1, ('Vareebadd Phone', 'iPhone'): 1, ('iPhone', '27in FHD Monitor'): 1, ('Google Phone', 'USB-C Charging Cable', 'Lightning Charging Cable'): 1, ('iPhone', 'Lightning Charging Cable', 'AAA Batteries (4-pack)'): 1, ('iPhone', 'Lightning Charging Cable', 'Wired Headphones', 'AA Batteries (4-pack)'): 1, ('Macbook Pro Laptop', 'Flatscreen TV'): 1, ('Vareebadd Phone', 'USB-C Charging Cable', 'iPhone'): 1, ('ThinkPad Laptop', 'Vareebadd Phone'): 1, ('Google Phone', 'USB-C Charging Cable', 'Bose SoundSport Headphones', '34in Ultrawide Monitor'): 1, ('Google Phone', 'Flatscreen TV'): 1, ('Google Phone', 'USB-C Charging Cable', 'Wired Headphones', 'Apple Airpods Headphones'): 1})\n"
     ]
    }
   ],
   "source": [
    "#Q5: What products are most often sold together?\n",
    "grouped = sales_data.groupby('Order ID')['Product'].apply(list).reset_index()\n",
    "grouped = grouped[grouped.Product.apply(lambda x : len(x)) >= 2]\n",
    "\n",
    "grouped_product= list(grouped['Product'])\n",
    "grouped_product\n",
    "\n",
    "from collections import Counter\n",
    "\n",
    "# Count the occurrences of each value in a list\n",
    "\n",
    "counts = Counter([tuple(sublist) for sublist in grouped_product])\n",
    "\n",
    "# Print the result\n",
    "print(counts)\n",
    "\n",
    "#Answer: iPhone and Lightning Charging Cable"
   ]
  },
  {
   "cell_type": "code",
   "execution_count": 18,
   "id": "bb67aa96",
   "metadata": {},
   "outputs": [
    {
     "data": {
      "text/plain": [
       "Product\n",
       "20in Monitor                   4129\n",
       "27in 4K Gaming Monitor         6244\n",
       "27in FHD Monitor               7550\n",
       "34in Ultrawide Monitor         6199\n",
       "AA Batteries (4-pack)         27635\n",
       "AAA Batteries (4-pack)        31017\n",
       "Apple Airpods Headphones      15661\n",
       "Bose SoundSport Headphones    13457\n",
       "Flatscreen TV                  4819\n",
       "Google Phone                   5532\n",
       "LG Dryer                        646\n",
       "LG Washing Machine              666\n",
       "Lightning Charging Cable      23217\n",
       "Macbook Pro Laptop             4728\n",
       "ThinkPad Laptop                4130\n",
       "USB-C Charging Cable          23975\n",
       "Vareebadd Phone                2068\n",
       "Wired Headphones              20557\n",
       "iPhone                         6849\n",
       "Name: Quantity Ordered, dtype: int32"
      ]
     },
     "execution_count": 18,
     "metadata": {},
     "output_type": "execute_result"
    }
   ],
   "source": [
    "#Q6: What product sold the most? Why do you think it sold the most?\n",
    "sales_data.groupby('Product')['Quantity Ordered'].sum()\n",
    "#Answer: AAA Batteries (4-pack). It is cheap and needed for many devices "
   ]
  },
  {
   "cell_type": "code",
   "execution_count": 21,
   "id": "82099038",
   "metadata": {},
   "outputs": [
    {
     "name": "stdout",
     "output_type": "stream",
     "text": [
      "0.11466957465838272\n"
     ]
    }
   ],
   "source": [
    "#How much probability for next people will ordered USB-C Charging Cable?\n",
    "n=sales_data['Quantity Ordered'].sum()\n",
    "usb=sales_data[sales_data['Product']=='USB-C Charging Cable']['Quantity Ordered'].sum()\n",
    "print(usb/n)\n",
    "#Answer: 11.4%"
   ]
  },
  {
   "cell_type": "code",
   "execution_count": 23,
   "id": "27afd37a",
   "metadata": {},
   "outputs": [
    {
     "name": "stdout",
     "output_type": "stream",
     "text": [
      "0.03275795273556885\n"
     ]
    }
   ],
   "source": [
    "#How much probability for next people will ordered iPhone?\n",
    "iphone=sales_data[sales_data['Product']=='iPhone']['Quantity Ordered'].sum()\n",
    "print(iphone/n)\n",
    "#Answer: 3.27%"
   ]
  },
  {
   "cell_type": "code",
   "execution_count": 25,
   "id": "33e6d51f",
   "metadata": {},
   "outputs": [
    {
     "name": "stdout",
     "output_type": "stream",
     "text": [
      "0.02645889831116468\n"
     ]
    }
   ],
   "source": [
    "#How much probability for next people will ordered Google Phone?\n",
    "google=sales_data[sales_data['Product']=='Google Phone']['Quantity Ordered'].sum()\n",
    "print(google/n)\n",
    "#Answer: 2.65%"
   ]
  },
  {
   "cell_type": "code",
   "execution_count": 26,
   "id": "96ff23d2",
   "metadata": {},
   "outputs": [
    {
     "name": "stdout",
     "output_type": "stream",
     "text": [
      "0.0983216870178258\n"
     ]
    }
   ],
   "source": [
    "#How much probability other peoples will ordered Wired Headphones?\n",
    "wired=sales_data[sales_data['Product']=='Wired Headphones']['Quantity Ordered'].sum()\n",
    "print(wired/n)\n",
    "#Answer: 9.83%"
   ]
  },
  {
   "cell_type": "code",
   "execution_count": 27,
   "id": "990b9111",
   "metadata": {},
   "outputs": [],
   "source": [
    "#Get a csv file for power BI dashboard\n",
    "sales_data.to_csv('sales_data.csv',index=False)"
   ]
  },
  {
   "cell_type": "code",
   "execution_count": null,
   "id": "eec4b374",
   "metadata": {},
   "outputs": [],
   "source": []
  }
 ],
 "metadata": {
  "kernelspec": {
   "display_name": "Python 3 (ipykernel)",
   "language": "python",
   "name": "python3"
  },
  "language_info": {
   "codemirror_mode": {
    "name": "ipython",
    "version": 3
   },
   "file_extension": ".py",
   "mimetype": "text/x-python",
   "name": "python",
   "nbconvert_exporter": "python",
   "pygments_lexer": "ipython3",
   "version": "3.9.7"
  }
 },
 "nbformat": 4,
 "nbformat_minor": 5
}
